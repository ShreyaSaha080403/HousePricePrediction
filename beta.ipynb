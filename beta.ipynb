{
 "cells": [
  {
   "cell_type": "code",
   "execution_count": 1,
   "metadata": {},
   "outputs": [],
   "source": [
    "import pandas as pd\n",
    "import numpy as np"
   ]
  },
  {
   "cell_type": "code",
   "execution_count": 2,
   "metadata": {},
   "outputs": [],
   "source": [
    "df = pd.read_excel('Copy of Project EX..xlsx')"
   ]
  },
  {
   "cell_type": "code",
   "execution_count": 3,
   "metadata": {},
   "outputs": [],
   "source": [
    "df.drop('devName', axis=1, inplace=True)"
   ]
  },
  {
   "cell_type": "code",
   "execution_count": 4,
   "metadata": {},
   "outputs": [],
   "source": [
    "df.loc[df.carpAreaUnit == 'Sq-m', 'carpetArea'] = np.round(df[df.carpAreaUnit == 'Sq-m'].carpetArea * 10.764).astype(int)\n",
    "df.loc[df.carpAreaUnit == 'Sq-yrd', 'carpetArea'] = np.round(df[df.carpAreaUnit == 'Sq-m'].carpetArea * 9).astype(int)"
   ]
  },
  {
   "cell_type": "code",
   "execution_count": 5,
   "metadata": {},
   "outputs": [],
   "source": [
    "df.drop('carpAreaUnit', axis=1, inplace=True)"
   ]
  },
  {
   "cell_type": "code",
   "execution_count": 6,
   "metadata": {},
   "outputs": [],
   "source": [
    "df.drop('landmarkDetails', axis=1, inplace=True)"
   ]
  },
  {
   "cell_type": "code",
   "execution_count": 7,
   "metadata": {},
   "outputs": [],
   "source": [
    "df.drop('lmtDName', axis=1, inplace=True)"
   ]
  },
  {
   "cell_type": "code",
   "execution_count": 8,
   "metadata": {},
   "outputs": [],
   "source": [
    "df.loc[df.bathD == '> 10', 'bathD'] = '10'\n",
    "df.bathD = pd.to_numeric(df.bathD)"
   ]
  },
  {
   "cell_type": "code",
   "execution_count": 9,
   "metadata": {},
   "outputs": [],
   "source": [
    "df.drop('propertyTitle', axis=1, inplace=True)"
   ]
  },
  {
   "cell_type": "code",
   "execution_count": 10,
   "metadata": {},
   "outputs": [],
   "source": [
    "df.drop('isLuxury', axis=1, inplace=True)"
   ]
  },
  {
   "cell_type": "code",
   "execution_count": 11,
   "metadata": {},
   "outputs": [],
   "source": [
    "df.drop('tenantsPreference', axis=1, inplace=True)"
   ]
  },
  {
   "cell_type": "code",
   "execution_count": 12,
   "metadata": {},
   "outputs": [],
   "source": [
    "df.drop('isThisListingAPremiumOnly', axis=1, inplace=True)"
   ]
  },
  {
   "cell_type": "code",
   "execution_count": 13,
   "metadata": {},
   "outputs": [],
   "source": [
    "df.drop('isAdvertiserOfThisListingAOwnerAndUnPaid', axis=1, inplace=True)"
   ]
  },
  {
   "cell_type": "code",
   "execution_count": 14,
   "metadata": {},
   "outputs": [],
   "source": [
    "df.drop('isLuxuryServiceAvailable', axis=1, inplace=True)"
   ]
  },
  {
   "cell_type": "code",
   "execution_count": 15,
   "metadata": {},
   "outputs": [],
   "source": [
    "df['amenitiesCount'] = df.amenities.str.split().str.len()\n",
    "df.loc[df.amenitiesCount.isna(), 'amenitiesCount']  = df.amenitiesCount.mean()"
   ]
  },
  {
   "cell_type": "code",
   "execution_count": 16,
   "metadata": {},
   "outputs": [],
   "source": [
    "df.drop('amenities', axis=1, inplace=True)"
   ]
  },
  {
   "cell_type": "code",
   "execution_count": 17,
   "metadata": {},
   "outputs": [],
   "source": [
    "df.loc[df.floorNo == 'Ground', 'floorNo'] = 0\n",
    "df.loc[df.floorNo == 'Lower Basement', 'floorNo'] = -2\n",
    "df.loc[df.floorNo == 'Upper Basement', 'floorNo'] = -1\n",
    "df.floorNo = pd.to_numeric(df.floorNo)"
   ]
  },
  {
   "cell_type": "code",
   "execution_count": 18,
   "metadata": {},
   "outputs": [],
   "source": [
    "df.loc[df.floorNo.isna(), 'floorNo'] = df.floorNo.mean()"
   ]
  },
  {
   "cell_type": "code",
   "execution_count": 19,
   "metadata": {},
   "outputs": [],
   "source": [
    "df.loc[df.floors.isna(), 'floors'] = df.floors.mean()"
   ]
  },
  {
   "cell_type": "code",
   "execution_count": 20,
   "metadata": {},
   "outputs": [],
   "source": [
    "df['floorRatio'] = df['floorNo'] / df['floors']"
   ]
  },
  {
   "cell_type": "code",
   "execution_count": 21,
   "metadata": {},
   "outputs": [],
   "source": [
    "df.dropna(axis=1, inplace=True)"
   ]
  },
  {
   "cell_type": "code",
   "execution_count": 22,
   "metadata": {},
   "outputs": [],
   "source": [
    "df.drop('landAreaUnitD', axis=1, inplace=True)"
   ]
  },
  {
   "cell_type": "code",
   "execution_count": 23,
   "metadata": {},
   "outputs": [
    {
     "data": {
      "text/plain": [
       "Index(['price', 'powerStatusD', 'furnishedD', 'bathD', 'transactionTypeD',\n",
       "       'propTypeD', 'bedroomD', 'waterStatus', 'isPrimeLocProp', 'floorNo',\n",
       "       'floors', 'amenitiesCount', 'floorRatio'],\n",
       "      dtype='object')"
      ]
     },
     "execution_count": 23,
     "metadata": {},
     "output_type": "execute_result"
    }
   ],
   "source": [
    "df.columns"
   ]
  },
  {
   "cell_type": "code",
   "execution_count": 25,
   "metadata": {},
   "outputs": [
    {
     "name": "stdout",
     "output_type": "stream",
     "text": [
      "<class 'pandas.core.frame.DataFrame'>\n",
      "RangeIndex: 1092 entries, 0 to 1091\n",
      "Data columns (total 13 columns):\n",
      " #   Column            Non-Null Count  Dtype  \n",
      "---  ------            --------------  -----  \n",
      " 0   price             1092 non-null   int64  \n",
      " 1   powerStatusD      1092 non-null   object \n",
      " 2   furnishedD        1092 non-null   object \n",
      " 3   bathD             1092 non-null   int64  \n",
      " 4   transactionTypeD  1092 non-null   object \n",
      " 5   propTypeD         1092 non-null   object \n",
      " 6   bedroomD          1092 non-null   int64  \n",
      " 7   waterStatus       1092 non-null   object \n",
      " 8   isPrimeLocProp    1092 non-null   object \n",
      " 9   floorNo           1092 non-null   float64\n",
      " 10  floors            1092 non-null   float64\n",
      " 11  amenitiesCount    1092 non-null   float64\n",
      " 12  floorRatio        1092 non-null   float64\n",
      "dtypes: float64(4), int64(3), object(6)\n",
      "memory usage: 111.0+ KB\n"
     ]
    }
   ],
   "source": [
    "df.info()"
   ]
  },
  {
   "cell_type": "code",
   "execution_count": 24,
   "metadata": {},
   "outputs": [],
   "source": [
    "# df.to_csv('beta.csv')"
   ]
  }
 ],
 "metadata": {
  "kernelspec": {
   "display_name": "DataSci",
   "language": "python",
   "name": "python3"
  },
  "language_info": {
   "codemirror_mode": {
    "name": "ipython",
    "version": 3
   },
   "file_extension": ".py",
   "mimetype": "text/x-python",
   "name": "python",
   "nbconvert_exporter": "python",
   "pygments_lexer": "ipython3",
   "version": "3.10.9"
  },
  "orig_nbformat": 4,
  "vscode": {
   "interpreter": {
    "hash": "15340563fcbdf5f06095e7f36ead0d5d7f08f57c9e0ba12774d3d15fed7cf438"
   }
  }
 },
 "nbformat": 4,
 "nbformat_minor": 2
}
