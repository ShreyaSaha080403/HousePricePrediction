{
 "cells": [
  {
   "cell_type": "code",
   "execution_count": 1,
   "metadata": {},
   "outputs": [],
   "source": [
    "import pandas as pd\n",
    "import pickle"
   ]
  },
  {
   "cell_type": "code",
   "execution_count": 2,
   "metadata": {},
   "outputs": [],
   "source": [
    "with open('onehotencoder.pkl', 'rb') as file:\n",
    "    encoder = pickle.load(file)\n",
    "\n",
    "with open('xgbreg.pkl', 'rb') as file:\n",
    "    model = pickle.load(file)"
   ]
  },
  {
   "cell_type": "code",
   "execution_count": 14,
   "metadata": {},
   "outputs": [],
   "source": [
    "def preprocess(powerStatusD, furnishedD, bathD, transactionTypeD, propTypeD, bedroomD, waterStatus, isPrimeLocProp, floorNo, floors, amenitiesCount):\n",
    "    df = pd.DataFrame({'powerStatusD' : pd.Series(dtype='object'),\n",
    "                   'furnishedD' : pd.Series(dtype='object'),\n",
    "                   'bathD' : pd.Series(dtype='int64'),\n",
    "                   'transactionTypeD' : pd.Series(dtype='object'),\n",
    "                   'propTypeD' : pd.Series(dtype='object'),\n",
    "                   'bedroomD' : pd.Series(dtype='int64'),\n",
    "                   'waterStatus' : pd.Series(dtype='object'),\n",
    "                   'isPrimeLocProp' : pd.Series(dtype='object'),\n",
    "                   'floorNo' : pd.Series(dtype='float'),\n",
    "                   'floors' : pd.Series(dtype='float'),\n",
    "                   'amenitiesCount' : pd.Series(dtype='float'),\n",
    "                   'floorRatio' : pd.Series(dtype='float')})\n",
    "    \n",
    "    add = {'powerStatusD' : powerStatusD,\n",
    "           'furnishedD' : furnishedD,\n",
    "           'bathD' : bathD,\n",
    "           'transactionTypeD' : transactionTypeD,\n",
    "           'propTypeD' : propTypeD,\n",
    "           'bedroomD' : bedroomD,\n",
    "           'waterStatus' : waterStatus,\n",
    "           'isPrimeLocProp' : isPrimeLocProp,\n",
    "           'floorNo' : floorNo,\n",
    "           'floors' : floors,\n",
    "           'amenitiesCount' : amenitiesCount,\n",
    "           'floorRatio' : (floorNo/floors)}\n",
    "\n",
    "    df = df.append(add, ignore_index=True)\n",
    "\n",
    "    df_encoded = encoder.transform(df[['powerStatusD', 'furnishedD', 'transactionTypeD', 'propTypeD', 'waterStatus', 'isPrimeLocProp']])\n",
    "    df_encoded = pd.DataFrame(df_encoded.toarray(), columns= encoder.get_feature_names_out(['powerStatusD', 'furnishedD', 'transactionTypeD', 'propTypeD', 'waterStatus', 'isPrimeLocProp']))\n",
    "    df = pd.concat([df, df_encoded], axis=1)\n",
    "    df.drop(['powerStatusD', 'furnishedD', 'transactionTypeD', 'propTypeD', 'waterStatus', 'isPrimeLocProp'], axis = 1, inplace = True)\n",
    "\n",
    "    return df"
   ]
  },
  {
   "cell_type": "code",
   "execution_count": 7,
   "metadata": {},
   "outputs": [],
   "source": [
    "powerStatusD = '2 To 4 Hours Powercut'\n",
    "furnishedD = 'Unfurnished'\n",
    "transactionTypeD = 'Resale'\n",
    "bathD = 2\n",
    "propTypeD = 'Apartment'\n",
    "bedroomD = 2\n",
    "waterStatus = 'Water Availability 24 Hours Available'\n",
    "isPrimeLocProp = 'Y'\n",
    "floorNo = 5\n",
    "floors = 7\n",
    "amenitiesCount = 13"
   ]
  },
  {
   "cell_type": "code",
   "execution_count": 17,
   "metadata": {},
   "outputs": [
    {
     "name": "stderr",
     "output_type": "stream",
     "text": [
      "C:\\Users\\amanr\\AppData\\Local\\Temp\\ipykernel_5336\\876114653.py:28: FutureWarning: The frame.append method is deprecated and will be removed from pandas in a future version. Use pandas.concat instead.\n",
      "  df = df.append(add, ignore_index=True)\n"
     ]
    },
    {
     "data": {
      "text/plain": [
       "20663022.0"
      ]
     },
     "execution_count": 17,
     "metadata": {},
     "output_type": "execute_result"
    }
   ],
   "source": [
    "final = preprocess(powerStatusD, furnishedD, bathD, transactionTypeD, propTypeD, bedroomD, waterStatus, isPrimeLocProp, floorNo, floors, amenitiesCount)\n",
    "model.predict(final)[0]"
   ]
  }
 ],
 "metadata": {
  "kernelspec": {
   "display_name": "DataSci",
   "language": "python",
   "name": "python3"
  },
  "language_info": {
   "codemirror_mode": {
    "name": "ipython",
    "version": 3
   },
   "file_extension": ".py",
   "mimetype": "text/x-python",
   "name": "python",
   "nbconvert_exporter": "python",
   "pygments_lexer": "ipython3",
   "version": "3.10.9"
  },
  "orig_nbformat": 4,
  "vscode": {
   "interpreter": {
    "hash": "15340563fcbdf5f06095e7f36ead0d5d7f08f57c9e0ba12774d3d15fed7cf438"
   }
  }
 },
 "nbformat": 4,
 "nbformat_minor": 2
}
