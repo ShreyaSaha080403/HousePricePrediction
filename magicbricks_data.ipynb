{
 "cells": [
  {
   "cell_type": "code",
   "execution_count": 1,
   "metadata": {},
   "outputs": [],
   "source": [
    "import pandas as pd\n",
    "import numpy as np"
   ]
  },
  {
   "cell_type": "code",
   "execution_count": 2,
   "metadata": {},
   "outputs": [],
   "source": [
    "df = pd.read_excel('Copy of Project EX..xlsx')"
   ]
  },
  {
   "cell_type": "code",
   "execution_count": 3,
   "metadata": {},
   "outputs": [
    {
     "data": {
      "text/html": [
       "<div>\n",
       "<style scoped>\n",
       "    .dataframe tbody tr th:only-of-type {\n",
       "        vertical-align: middle;\n",
       "    }\n",
       "\n",
       "    .dataframe tbody tr th {\n",
       "        vertical-align: top;\n",
       "    }\n",
       "\n",
       "    .dataframe thead th {\n",
       "        text-align: right;\n",
       "    }\n",
       "</style>\n",
       "<table border=\"1\" class=\"dataframe\">\n",
       "  <thead>\n",
       "    <tr style=\"text-align: right;\">\n",
       "      <th></th>\n",
       "      <th>devName</th>\n",
       "      <th>price</th>\n",
       "      <th>landmarkDetails</th>\n",
       "      <th>powerStatusD</th>\n",
       "      <th>carpetArea</th>\n",
       "      <th>carpAreaUnit</th>\n",
       "      <th>lmtDName</th>\n",
       "      <th>furnishedD</th>\n",
       "      <th>bathD</th>\n",
       "      <th>transactionTypeD</th>\n",
       "      <th>...</th>\n",
       "      <th>sqFtPrD</th>\n",
       "      <th>ltOther</th>\n",
       "      <th>pmtUspWap</th>\n",
       "      <th>pmtUsp</th>\n",
       "      <th>sqFtPrice</th>\n",
       "      <th>OwnershipTypeD</th>\n",
       "      <th>facingD</th>\n",
       "      <th>amenFacingD</th>\n",
       "      <th>covAreaUnit</th>\n",
       "      <th>balconiesD</th>\n",
       "    </tr>\n",
       "  </thead>\n",
       "  <tbody>\n",
       "    <tr>\n",
       "      <th>0</th>\n",
       "      <td>A</td>\n",
       "      <td>46500000</td>\n",
       "      <td>8201.2 Km from Priyadarshini Park</td>\n",
       "      <td>No/Rare Powercut</td>\n",
       "      <td>810</td>\n",
       "      <td>Sq-ft</td>\n",
       "      <td>Nalasopara West</td>\n",
       "      <td>Semi-Furnished</td>\n",
       "      <td>2</td>\n",
       "      <td>Resale</td>\n",
       "      <td>...</td>\n",
       "      <td>4500.0</td>\n",
       "      <td>NaN</td>\n",
       "      <td>Near fun fiesta theater</td>\n",
       "      <td>Near fun fiesta theater</td>\n",
       "      <td>4500.0</td>\n",
       "      <td>Co-operative Society</td>\n",
       "      <td>East</td>\n",
       "      <td>Main Road</td>\n",
       "      <td>12800.0</td>\n",
       "      <td>3</td>\n",
       "    </tr>\n",
       "    <tr>\n",
       "      <th>1</th>\n",
       "      <td>A</td>\n",
       "      <td>19500000</td>\n",
       "      <td>0.8 Km from Signature Business Park</td>\n",
       "      <td>No/Rare Powercut</td>\n",
       "      <td>756</td>\n",
       "      <td>Sq-ft</td>\n",
       "      <td>Kalyan</td>\n",
       "      <td>Unfurnished</td>\n",
       "      <td>2</td>\n",
       "      <td>Resale</td>\n",
       "      <td>...</td>\n",
       "      <td>8168.0</td>\n",
       "      <td>NaN</td>\n",
       "      <td>East Facing Property</td>\n",
       "      <td>East Facing Property</td>\n",
       "      <td>8169.0</td>\n",
       "      <td>Freehold</td>\n",
       "      <td>East</td>\n",
       "      <td>Garden/Park</td>\n",
       "      <td>12800.0</td>\n",
       "      <td>2</td>\n",
       "    </tr>\n",
       "    <tr>\n",
       "      <th>2</th>\n",
       "      <td>A&amp;O</td>\n",
       "      <td>19500000</td>\n",
       "      <td>0.2 Km from Raheja Federation Garden</td>\n",
       "      <td>No/Rare Powercut</td>\n",
       "      <td>1460</td>\n",
       "      <td>Sq-ft</td>\n",
       "      <td>Saat Rasta</td>\n",
       "      <td>Semi-Furnished</td>\n",
       "      <td>5</td>\n",
       "      <td>New Property</td>\n",
       "      <td>...</td>\n",
       "      <td>NaN</td>\n",
       "      <td>NaN</td>\n",
       "      <td>NaN</td>\n",
       "      <td>NaN</td>\n",
       "      <td>NaN</td>\n",
       "      <td>Freehold</td>\n",
       "      <td>North - West</td>\n",
       "      <td>Garden/Park, Pool</td>\n",
       "      <td>NaN</td>\n",
       "      <td>2</td>\n",
       "    </tr>\n",
       "    <tr>\n",
       "      <th>3</th>\n",
       "      <td>A&amp;O</td>\n",
       "      <td>17500000</td>\n",
       "      <td>0.2 Km from Raheja Federation Garden</td>\n",
       "      <td>No/Rare Powercut</td>\n",
       "      <td>750</td>\n",
       "      <td>Sq-ft</td>\n",
       "      <td>Andheri West</td>\n",
       "      <td>Furnished</td>\n",
       "      <td>2</td>\n",
       "      <td>Resale</td>\n",
       "      <td>...</td>\n",
       "      <td>22353.0</td>\n",
       "      <td>NaN</td>\n",
       "      <td>NaN</td>\n",
       "      <td>NaN</td>\n",
       "      <td>22353.0</td>\n",
       "      <td>Freehold</td>\n",
       "      <td>West</td>\n",
       "      <td>Garden/Park, Main Road</td>\n",
       "      <td>12800.0</td>\n",
       "      <td>1</td>\n",
       "    </tr>\n",
       "    <tr>\n",
       "      <th>4</th>\n",
       "      <td>A&amp;O</td>\n",
       "      <td>8000000</td>\n",
       "      <td>0.7 Km from Ecstasy Business Park</td>\n",
       "      <td>No/Rare Powercut</td>\n",
       "      <td>390</td>\n",
       "      <td>Sq-ft</td>\n",
       "      <td>Borivali</td>\n",
       "      <td>Unfurnished</td>\n",
       "      <td>1</td>\n",
       "      <td>Resale</td>\n",
       "      <td>...</td>\n",
       "      <td>24444.0</td>\n",
       "      <td>NaN</td>\n",
       "      <td>East Facing Property</td>\n",
       "      <td>East Facing Property</td>\n",
       "      <td>24444.0</td>\n",
       "      <td>NaN</td>\n",
       "      <td>East</td>\n",
       "      <td>NaN</td>\n",
       "      <td>12800.0</td>\n",
       "      <td>NaN</td>\n",
       "    </tr>\n",
       "  </tbody>\n",
       "</table>\n",
       "<p>5 rows × 45 columns</p>\n",
       "</div>"
      ],
      "text/plain": [
       "  devName     price                       landmarkDetails      powerStatusD  \\\n",
       "0       A  46500000     8201.2 Km from Priyadarshini Park  No/Rare Powercut   \n",
       "1       A  19500000   0.8 Km from Signature Business Park  No/Rare Powercut   \n",
       "2     A&O  19500000  0.2 Km from Raheja Federation Garden  No/Rare Powercut   \n",
       "3     A&O  17500000  0.2 Km from Raheja Federation Garden  No/Rare Powercut   \n",
       "4     A&O   8000000     0.7 Km from Ecstasy Business Park  No/Rare Powercut   \n",
       "\n",
       "   carpetArea carpAreaUnit         lmtDName      furnishedD bathD  \\\n",
       "0         810        Sq-ft  Nalasopara West  Semi-Furnished     2   \n",
       "1         756        Sq-ft           Kalyan     Unfurnished     2   \n",
       "2        1460        Sq-ft       Saat Rasta  Semi-Furnished     5   \n",
       "3         750        Sq-ft     Andheri West       Furnished     2   \n",
       "4         390        Sq-ft         Borivali     Unfurnished     1   \n",
       "\n",
       "  transactionTypeD  ...  sqFtPrD  ltOther                pmtUspWap  \\\n",
       "0           Resale  ...   4500.0      NaN  Near fun fiesta theater   \n",
       "1           Resale  ...   8168.0      NaN     East Facing Property   \n",
       "2     New Property  ...      NaN      NaN                      NaN   \n",
       "3           Resale  ...  22353.0      NaN                      NaN   \n",
       "4           Resale  ...  24444.0      NaN     East Facing Property   \n",
       "\n",
       "                    pmtUsp sqFtPrice        OwnershipTypeD       facingD  \\\n",
       "0  Near fun fiesta theater    4500.0  Co-operative Society          East   \n",
       "1     East Facing Property    8169.0              Freehold          East   \n",
       "2                      NaN       NaN              Freehold  North - West   \n",
       "3                      NaN   22353.0              Freehold          West   \n",
       "4     East Facing Property   24444.0                   NaN          East   \n",
       "\n",
       "              amenFacingD  covAreaUnit balconiesD  \n",
       "0               Main Road      12800.0          3  \n",
       "1             Garden/Park      12800.0          2  \n",
       "2       Garden/Park, Pool          NaN          2  \n",
       "3  Garden/Park, Main Road      12800.0          1  \n",
       "4                     NaN      12800.0        NaN  \n",
       "\n",
       "[5 rows x 45 columns]"
      ]
     },
     "execution_count": 3,
     "metadata": {},
     "output_type": "execute_result"
    }
   ],
   "source": [
    "df.head()"
   ]
  },
  {
   "cell_type": "code",
   "execution_count": 4,
   "metadata": {},
   "outputs": [
    {
     "data": {
      "text/plain": [
       "Index(['devName', 'price', 'landmarkDetails', 'powerStatusD', 'carpetArea',\n",
       "       'carpAreaUnit', 'lmtDName', 'furnishedD', 'bathD', 'transactionTypeD',\n",
       "       'propTypeD', 'bedroomD', 'propertyTitle', 'waterStatus', 'isLuxury',\n",
       "       'isPrimeLocProp', 'tenantsPreference', 'isThisListingAPremiumOnly',\n",
       "       'isAdvertiserOfThisListingAOwnerAndUnPaid', 'landAreaUnitD',\n",
       "       'isLuxuryServiceAvailable', 'luxAmenitiesD', 'parkingD', 'amenities',\n",
       "       'floorNo', 'adroomD', 'floorD', 'floors', 'bookingAmtExact',\n",
       "       'availUnit', 'maintenanceD', 'maintenanceCharges', 'landmark', 'caSqFt',\n",
       "       'ca', 'sqFtPrD', 'ltOther', 'pmtUspWap', 'pmtUsp', 'sqFtPrice',\n",
       "       'OwnershipTypeD', 'facingD', 'amenFacingD', 'covAreaUnit',\n",
       "       'balconiesD'],\n",
       "      dtype='object')"
      ]
     },
     "execution_count": 4,
     "metadata": {},
     "output_type": "execute_result"
    }
   ],
   "source": [
    "df.columns"
   ]
  },
  {
   "cell_type": "code",
   "execution_count": 5,
   "metadata": {},
   "outputs": [
    {
     "name": "stdout",
     "output_type": "stream",
     "text": [
      "<class 'pandas.core.frame.DataFrame'>\n",
      "RangeIndex: 1092 entries, 0 to 1091\n",
      "Data columns (total 45 columns):\n",
      " #   Column                                    Non-Null Count  Dtype  \n",
      "---  ------                                    --------------  -----  \n",
      " 0   devName                                   1092 non-null   object \n",
      " 1   price                                     1092 non-null   int64  \n",
      " 2   landmarkDetails                           1092 non-null   object \n",
      " 3   powerStatusD                              1092 non-null   object \n",
      " 4   carpetArea                                1092 non-null   int64  \n",
      " 5   carpAreaUnit                              1092 non-null   object \n",
      " 6   lmtDName                                  1092 non-null   object \n",
      " 7   furnishedD                                1092 non-null   object \n",
      " 8   bathD                                     1092 non-null   object \n",
      " 9   transactionTypeD                          1092 non-null   object \n",
      " 10  propTypeD                                 1092 non-null   object \n",
      " 11  bedroomD                                  1092 non-null   int64  \n",
      " 12  propertyTitle                             1092 non-null   object \n",
      " 13  waterStatus                               1092 non-null   object \n",
      " 14  isLuxury                                  1092 non-null   object \n",
      " 15  isPrimeLocProp                            1092 non-null   object \n",
      " 16  tenantsPreference                         1092 non-null   object \n",
      " 17  isThisListingAPremiumOnly                 1092 non-null   bool   \n",
      " 18  isAdvertiserOfThisListingAOwnerAndUnPaid  1092 non-null   bool   \n",
      " 19  landAreaUnitD                             1092 non-null   object \n",
      " 20  isLuxuryServiceAvailable                  1092 non-null   bool   \n",
      " 21  luxAmenitiesD                             922 non-null    object \n",
      " 22  parkingD                                  867 non-null    object \n",
      " 23  amenities                                 1044 non-null   object \n",
      " 24  floorNo                                   1002 non-null   object \n",
      " 25  adroomD                                   768 non-null    object \n",
      " 26  floorD                                    1002 non-null   object \n",
      " 27  floors                                    1002 non-null   float64\n",
      " 28  bookingAmtExact                           858 non-null    float64\n",
      " 29  availUnit                                 809 non-null    float64\n",
      " 30  maintenanceD                              890 non-null    object \n",
      " 31  maintenanceCharges                        794 non-null    float64\n",
      " 32  landmark                                  948 non-null    object \n",
      " 33  caSqFt                                    959 non-null    float64\n",
      " 34  ca                                        959 non-null    float64\n",
      " 35  sqFtPrD                                   994 non-null    float64\n",
      " 36  ltOther                                   154 non-null    object \n",
      " 37  pmtUspWap                                 518 non-null    object \n",
      " 38  pmtUsp                                    518 non-null    object \n",
      " 39  sqFtPrice                                 960 non-null    float64\n",
      " 40  OwnershipTypeD                            1005 non-null   object \n",
      " 41  facingD                                   985 non-null    object \n",
      " 42  amenFacingD                               913 non-null    object \n",
      " 43  covAreaUnit                               959 non-null    float64\n",
      " 44  balconiesD                                471 non-null    object \n",
      "dtypes: bool(3), float64(9), int64(3), object(30)\n",
      "memory usage: 361.6+ KB\n"
     ]
    }
   ],
   "source": [
    "df.info()"
   ]
  },
  {
   "cell_type": "code",
   "execution_count": 6,
   "metadata": {},
   "outputs": [],
   "source": [
    "df.drop('devName', axis=1, inplace=True)"
   ]
  },
  {
   "cell_type": "code",
   "execution_count": 7,
   "metadata": {},
   "outputs": [
    {
     "data": {
      "text/plain": [
       "Sq-ft     1088\n",
       "Sq-m         3\n",
       "Sq-yrd       1\n",
       "Name: carpAreaUnit, dtype: int64"
      ]
     },
     "execution_count": 7,
     "metadata": {},
     "output_type": "execute_result"
    }
   ],
   "source": [
    "df.carpAreaUnit.value_counts()"
   ]
  },
  {
   "cell_type": "code",
   "execution_count": 8,
   "metadata": {},
   "outputs": [],
   "source": [
    "df.loc[df.carpAreaUnit == 'Sq-m', 'carpetArea'] = np.round(df[df.carpAreaUnit == 'Sq-m'].carpetArea * 10.764).astype(int)\n",
    "df.loc[df.carpAreaUnit == 'Sq-yrd', 'carpetArea'] = np.round(df[df.carpAreaUnit == 'Sq-m'].carpetArea * 9).astype(int)"
   ]
  },
  {
   "cell_type": "code",
   "execution_count": 9,
   "metadata": {},
   "outputs": [],
   "source": [
    "df.drop('carpAreaUnit', axis=1, inplace=True)"
   ]
  },
  {
   "cell_type": "code",
   "execution_count": 10,
   "metadata": {},
   "outputs": [],
   "source": [
    "df.drop('landmarkDetails', axis=1, inplace=True)"
   ]
  },
  {
   "cell_type": "code",
   "execution_count": 11,
   "metadata": {},
   "outputs": [
    {
     "data": {
      "text/plain": [
       "No/Rare Powercut             1084\n",
       "Less Than 2 Hour Powercut       7\n",
       "2 To 4 Hours Powercut           1\n",
       "Name: powerStatusD, dtype: int64"
      ]
     },
     "execution_count": 11,
     "metadata": {},
     "output_type": "execute_result"
    }
   ],
   "source": [
    "df.powerStatusD.value_counts()"
   ]
  },
  {
   "cell_type": "code",
   "execution_count": 12,
   "metadata": {},
   "outputs": [],
   "source": [
    "rated_dummies = pd.get_dummies(df.powerStatusD)\n",
    "df = pd.concat([df, rated_dummies], axis=1)\n",
    "df.drop('powerStatusD', axis=1, inplace=True)"
   ]
  },
  {
   "cell_type": "code",
   "execution_count": 13,
   "metadata": {},
   "outputs": [],
   "source": [
    "df.lmtDName.value_counts().to_csv('locality')"
   ]
  },
  {
   "cell_type": "code",
   "execution_count": 14,
   "metadata": {},
   "outputs": [],
   "source": [
    "df.drop('lmtDName', axis=1, inplace=True)"
   ]
  },
  {
   "cell_type": "code",
   "execution_count": 15,
   "metadata": {},
   "outputs": [],
   "source": [
    "rated_dummies = pd.get_dummies(df.furnishedD)\n",
    "df = pd.concat([df, rated_dummies], axis=1)\n",
    "df.drop('furnishedD', axis=1, inplace=True)"
   ]
  },
  {
   "cell_type": "code",
   "execution_count": 16,
   "metadata": {},
   "outputs": [],
   "source": [
    "df.loc[df.bathD == '> 10', 'bathD'] = '10'\n",
    "df.bathD = pd.to_numeric(df.bathD)"
   ]
  },
  {
   "cell_type": "code",
   "execution_count": 17,
   "metadata": {},
   "outputs": [],
   "source": [
    "rated_dummies = pd.get_dummies(df.propTypeD)\n",
    "df = pd.concat([df, rated_dummies], axis=1)\n",
    "df.drop('propTypeD', axis=1, inplace=True)"
   ]
  },
  {
   "cell_type": "code",
   "execution_count": 18,
   "metadata": {},
   "outputs": [],
   "source": [
    "rated_dummies = pd.get_dummies(df.transactionTypeD)\n",
    "df = pd.concat([df, rated_dummies], axis=1)\n",
    "df.drop('transactionTypeD', axis=1, inplace=True)"
   ]
  },
  {
   "cell_type": "code",
   "execution_count": 19,
   "metadata": {},
   "outputs": [
    {
     "data": {
      "text/plain": [
       "2    453\n",
       "1    314\n",
       "3    243\n",
       "4     65\n",
       "5      9\n",
       "6      5\n",
       "8      2\n",
       "9      1\n",
       "Name: bedroomD, dtype: int64"
      ]
     },
     "execution_count": 19,
     "metadata": {},
     "output_type": "execute_result"
    }
   ],
   "source": [
    "df.bedroomD.value_counts()"
   ]
  },
  {
   "cell_type": "code",
   "execution_count": 20,
   "metadata": {},
   "outputs": [],
   "source": [
    "df.drop('propertyTitle', axis=1, inplace=True)"
   ]
  },
  {
   "cell_type": "code",
   "execution_count": 21,
   "metadata": {},
   "outputs": [
    {
     "data": {
      "text/plain": [
       "Water Availability 24 Hours Available    1039\n",
       "Water Availability 1 Hour Available        24\n",
       "Water Availability 2 Hours Available       15\n",
       "Water Availability 12 Hours Available       7\n",
       "Water Availability 6 Hours Available        7\n",
       "Name: waterStatus, dtype: int64"
      ]
     },
     "execution_count": 21,
     "metadata": {},
     "output_type": "execute_result"
    }
   ],
   "source": [
    "df.waterStatus.value_counts()"
   ]
  },
  {
   "cell_type": "code",
   "execution_count": 22,
   "metadata": {},
   "outputs": [],
   "source": [
    "rated_dummies = pd.get_dummies(df.waterStatus)\n",
    "df = pd.concat([df, rated_dummies], axis=1)\n",
    "df.drop('waterStatus', axis=1, inplace=True)"
   ]
  },
  {
   "cell_type": "code",
   "execution_count": 23,
   "metadata": {},
   "outputs": [],
   "source": [
    "df.drop('isLuxury', axis=1, inplace=True)"
   ]
  },
  {
   "cell_type": "code",
   "execution_count": 24,
   "metadata": {},
   "outputs": [],
   "source": [
    "rated_dummies = pd.get_dummies(df.isPrimeLocProp)\n",
    "df = pd.concat([df, rated_dummies], axis=1)\n",
    "df.drop('isPrimeLocProp', axis=1, inplace=True)"
   ]
  },
  {
   "cell_type": "code",
   "execution_count": 27,
   "metadata": {},
   "outputs": [],
   "source": [
    "df.drop('tenantsPreference', axis=1, inplace=True)"
   ]
  },
  {
   "cell_type": "code",
   "execution_count": 30,
   "metadata": {},
   "outputs": [],
   "source": [
    "df.drop('isThisListingAPremiumOnly', axis=1, inplace=True)"
   ]
  },
  {
   "cell_type": "code",
   "execution_count": 31,
   "metadata": {},
   "outputs": [],
   "source": [
    "df.drop('isAdvertiserOfThisListingAOwnerAndUnPaid', axis=1, inplace=True)"
   ]
  },
  {
   "cell_type": "code",
   "execution_count": 34,
   "metadata": {},
   "outputs": [],
   "source": [
    "df.drop('isLuxuryServiceAvailable', axis=1, inplace=True)"
   ]
  },
  {
   "cell_type": "code",
   "execution_count": 62,
   "metadata": {},
   "outputs": [],
   "source": [
    "df['amenitiesCount'] = df.amenities.str.split().str.len()\n",
    "df.loc[df.amenitiesCount.isna(), 'amenitiesCount']  = df.amenitiesCount.mean()"
   ]
  },
  {
   "cell_type": "code",
   "execution_count": 63,
   "metadata": {},
   "outputs": [],
   "source": [
    "df.drop('amenities', axis=1, inplace=True)"
   ]
  },
  {
   "cell_type": "code",
   "execution_count": 68,
   "metadata": {},
   "outputs": [],
   "source": [
    "df.loc[df.floorNo == 'Ground', 'floorNo'] = 0\n",
    "df.loc[df.floorNo == 'Lower Basement', 'floorNo'] = -2\n",
    "df.loc[df.floorNo == 'Upper Basement', 'floorNo'] = -1\n",
    "df.floorNo = pd.to_numeric(df.floorNo)"
   ]
  },
  {
   "cell_type": "code",
   "execution_count": 70,
   "metadata": {},
   "outputs": [],
   "source": [
    "df.loc[df.floorNo.isna(), 'floorNo'] = df.floorNo.mean()"
   ]
  },
  {
   "cell_type": "code",
   "execution_count": 72,
   "metadata": {},
   "outputs": [],
   "source": [
    "df.loc[df.floors.isna(), 'floors'] = df.floors.mean()"
   ]
  },
  {
   "cell_type": "code",
   "execution_count": 73,
   "metadata": {},
   "outputs": [],
   "source": [
    "df['floorRatio'] = df['floorNo'] / df['floors']"
   ]
  },
  {
   "cell_type": "code",
   "execution_count": 78,
   "metadata": {},
   "outputs": [],
   "source": [
    "df.dropna(axis=1, inplace=True)"
   ]
  },
  {
   "cell_type": "code",
   "execution_count": 79,
   "metadata": {},
   "outputs": [],
   "source": [
    "df.to_csv('alpha.csv')"
   ]
  }
 ],
 "metadata": {
  "kernelspec": {
   "display_name": "DataSci",
   "language": "python",
   "name": "python3"
  },
  "language_info": {
   "codemirror_mode": {
    "name": "ipython",
    "version": 3
   },
   "file_extension": ".py",
   "mimetype": "text/x-python",
   "name": "python",
   "nbconvert_exporter": "python",
   "pygments_lexer": "ipython3",
   "version": "3.10.9"
  },
  "orig_nbformat": 4,
  "vscode": {
   "interpreter": {
    "hash": "15340563fcbdf5f06095e7f36ead0d5d7f08f57c9e0ba12774d3d15fed7cf438"
   }
  }
 },
 "nbformat": 4,
 "nbformat_minor": 2
}
